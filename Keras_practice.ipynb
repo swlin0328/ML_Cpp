{
 "cells": [
  {
   "cell_type": "code",
   "execution_count": 14,
   "metadata": {
    "collapsed": true
   },
   "outputs": [],
   "source": [
    "#程式碼取自 博碩, \"Python 機器學習\", ISBN 978-986-434-140-5, by Sebastian Raschka, 為練習Python函式庫用途\n",
    "#僅供履歷作品集使用\n",
    "import os\n",
    "import struct\n",
    "import numpy as np\n",
    "\n",
    "def load_mnist(path, kind='train'):\n",
    "    labels_path = os.path.join(path, '%s-labels.idx1-ubyte' %kind)\n",
    "    images_path = os.path.join(path, '%s-images.idx3-ubyte' %kind)\n",
    "    \n",
    "    with open (labels_path, 'rb') as lbpath:\n",
    "        magic, n = struct.unpack('>II', lbpath.read(8))\n",
    "        labels = np.fromfile(lbpath, dtype=np.uint8)\n",
    "        \n",
    "    with open (images_path, 'rb') as imgpath:\n",
    "        magic, num, rows, cols = struct.unpack('>IIII', imgpath.read(16))\n",
    "        images = np.fromfile(imgpath, dtype=np.uint8).reshape(len(labels), 784)\n",
    "        \n",
    "    return images, labels"
   ]
  },
  {
   "cell_type": "code",
   "execution_count": 15,
   "metadata": {},
   "outputs": [
    {
     "name": "stdout",
     "output_type": "stream",
     "text": [
      "Rows: 60000, columns: 784\n",
      "Rows: 10000, columns: 784\n"
     ]
    }
   ],
   "source": [
    "X_train, y_train = load_mnist(r'C:\\Users\\Acer\\Desktop', kind='train')\n",
    "X_test, y_test = load_mnist(r'C:\\Users\\Acer\\Desktop', kind='t10k')\n",
    "print('Rows: %d, columns: %d' % (X_train.shape[0], X_train.shape[1]))\n",
    "print('Rows: %d, columns: %d' % (X_test.shape[0], X_test.shape[1]))"
   ]
  },
  {
   "cell_type": "code",
   "execution_count": 16,
   "metadata": {
    "collapsed": true
   },
   "outputs": [],
   "source": [
    "#THEANO_FLAGS=mode=FAST_RUN,device=gpu,floatX=float32 python mnist_keras_mlp.py"
   ]
  },
  {
   "cell_type": "code",
   "execution_count": 17,
   "metadata": {
    "scrolled": true
   },
   "outputs": [
    {
     "name": "stdout",
     "output_type": "stream",
     "text": [
      "First 3 labels:  [5 0 4]\n",
      "\n",
      "First 3 labels (one-hot):\n",
      " [[ 0.  0.  0.  0.  0.  1.  0.  0.  0.  0.]\n",
      " [ 1.  0.  0.  0.  0.  0.  0.  0.  0.  0.]\n",
      " [ 0.  0.  0.  0.  1.  0.  0.  0.  0.  0.]]\n"
     ]
    }
   ],
   "source": [
    "import theano\n",
    "theano.config.floatX = 'float32'\n",
    "X_train = X_train.astype(theano.config.floatX)\n",
    "X_test = X_test.astype(theano.config.floatX)\n",
    "\n",
    "from keras.utils import np_utils\n",
    "print('First 3 labels: ', y_train[:3])\n",
    "y_train_ohe = np_utils.to_categorical(y_train)\n",
    "print('\\nFirst 3 labels (one-hot):\\n', y_train_ohe[:3])"
   ]
  },
  {
   "cell_type": "code",
   "execution_count": 18,
   "metadata": {},
   "outputs": [
    {
     "name": "stderr",
     "output_type": "stream",
     "text": [
      "C:\\Users\\Acer\\Anaconda2\\envs\\tensorflow\\lib\\site-packages\\ipykernel_launcher.py:7: UserWarning: Update your `Dense` call to the Keras 2 API: `Dense(activation=\"tanh\", kernel_initializer=\"uniform\", input_dim=784, units=50)`\n",
      "  import sys\n",
      "C:\\Users\\Acer\\Anaconda2\\envs\\tensorflow\\lib\\site-packages\\ipykernel_launcher.py:8: UserWarning: Update your `Dense` call to the Keras 2 API: `Dense(activation=\"tanh\", kernel_initializer=\"uniform\", input_dim=50, units=50)`\n",
      "  \n",
      "C:\\Users\\Acer\\Anaconda2\\envs\\tensorflow\\lib\\site-packages\\ipykernel_launcher.py:9: UserWarning: Update your `Dense` call to the Keras 2 API: `Dense(activation=\"softmax\", kernel_initializer=\"uniform\", input_dim=50, units=10)`\n",
      "  if __name__ == '__main__':\n"
     ]
    }
   ],
   "source": [
    "from keras.models import Sequential\n",
    "from keras.layers.core import Dense\n",
    "from keras.optimizers import SGD\n",
    "\n",
    "np.random.seed(1)\n",
    "model = Sequential()\n",
    "model.add(Dense(input_dim=X_train.shape[1], output_dim=50, init='uniform', activation='tanh'))\n",
    "model.add(Dense(input_dim=50,output_dim=50,init='uniform', activation='tanh'))\n",
    "model.add(Dense(input_dim=50,output_dim=y_train_ohe.shape[1],init='uniform', activation='softmax'))\n",
    "\n",
    "sgd = SGD(lr=0.001, decay=1e-7, momentum=.9)\n",
    "model.compile(loss='categorical_crossentropy', optimizer=sgd)"
   ]
  },
  {
   "cell_type": "code",
   "execution_count": 19,
   "metadata": {},
   "outputs": [
    {
     "name": "stderr",
     "output_type": "stream",
     "text": [
      "C:\\Users\\Acer\\Anaconda2\\envs\\tensorflow\\lib\\site-packages\\keras\\models.py:844: UserWarning: The `nb_epoch` argument in `fit` has been renamed `epochs`.\n",
      "  warnings.warn('The `nb_epoch` argument in `fit` '\n"
     ]
    },
    {
     "name": "stdout",
     "output_type": "stream",
     "text": [
      "Train on 54000 samples, validate on 6000 samples\n",
      "Epoch 1/50\n",
      "54000/54000 [==============================] - 1s - loss: 2.2244 - val_loss: 2.1019\n",
      "Epoch 2/50\n",
      "54000/54000 [==============================] - 1s - loss: 1.8744 - val_loss: 1.5897\n",
      "Epoch 3/50\n",
      "54000/54000 [==============================] - 1s - loss: 1.3845 - val_loss: 1.1463\n",
      "Epoch 4/50\n",
      "54000/54000 [==============================] - 1s - loss: 1.0397 - val_loss: 0.8656\n",
      "Epoch 5/50\n",
      "54000/54000 [==============================] - 1s - loss: 0.8219 - val_loss: 0.6892\n",
      "Epoch 6/50\n",
      "54000/54000 [==============================] - 1s - loss: 0.6805 - val_loss: 0.5764\n",
      "Epoch 7/50\n",
      "54000/54000 [==============================] - 1s - loss: 0.5890 - val_loss: 0.4936\n",
      "Epoch 8/50\n",
      "54000/54000 [==============================] - 1s - loss: 0.5210 - val_loss: 0.4430\n",
      "Epoch 9/50\n",
      "54000/54000 [==============================] - 1s - loss: 0.4755 - val_loss: 0.4135\n",
      "Epoch 10/50\n",
      "54000/54000 [==============================] - 1s - loss: 0.4344 - val_loss: 0.3695\n",
      "Epoch 11/50\n",
      "54000/54000 [==============================] - 1s - loss: 0.4053 - val_loss: 0.3534\n",
      "Epoch 12/50\n",
      "54000/54000 [==============================] - 1s - loss: 0.3853 - val_loss: 0.3421\n",
      "Epoch 13/50\n",
      "54000/54000 [==============================] - 1s - loss: 0.3680 - val_loss: 0.3188\n",
      "Epoch 14/50\n",
      "54000/54000 [==============================] - 1s - loss: 0.3515 - val_loss: 0.3061\n",
      "Epoch 15/50\n",
      "54000/54000 [==============================] - 1s - loss: 0.3413 - val_loss: 0.2895\n",
      "Epoch 16/50\n",
      "54000/54000 [==============================] - 1s - loss: 0.3295 - val_loss: 0.2879\n",
      "Epoch 17/50\n",
      "54000/54000 [==============================] - 1s - loss: 0.3203 - val_loss: 0.2810\n",
      "Epoch 18/50\n",
      "54000/54000 [==============================] - 2s - loss: 0.3064 - val_loss: 0.2670\n",
      "Epoch 19/50\n",
      "54000/54000 [==============================] - 1s - loss: 0.3045 - val_loss: 0.2659\n",
      "Epoch 20/50\n",
      "54000/54000 [==============================] - 1s - loss: 0.2958 - val_loss: 0.2634\n",
      "Epoch 21/50\n",
      "54000/54000 [==============================] - 1s - loss: 0.2946 - val_loss: 0.2529\n",
      "Epoch 22/50\n",
      "54000/54000 [==============================] - 1s - loss: 0.2833 - val_loss: 0.2515\n",
      "Epoch 23/50\n",
      "54000/54000 [==============================] - 1s - loss: 0.2880 - val_loss: 0.2443\n",
      "Epoch 24/50\n",
      "54000/54000 [==============================] - 1s - loss: 0.2836 - val_loss: 0.2521\n",
      "Epoch 25/50\n",
      "54000/54000 [==============================] - 1s - loss: 0.2743 - val_loss: 0.2474\n",
      "Epoch 26/50\n",
      "54000/54000 [==============================] - 3s - loss: 0.2660 - val_loss: 0.2348\n",
      "Epoch 27/50\n",
      "54000/54000 [==============================] - 2s - loss: 0.2649 - val_loss: 0.2220\n",
      "Epoch 28/50\n",
      "54000/54000 [==============================] - 1s - loss: 0.2543 - val_loss: 0.2321\n",
      "Epoch 29/50\n",
      "54000/54000 [==============================] - 1s - loss: 0.2547 - val_loss: 0.2215\n",
      "Epoch 30/50\n",
      "54000/54000 [==============================] - 1s - loss: 0.2475 - val_loss: 0.2255\n",
      "Epoch 31/50\n",
      "54000/54000 [==============================] - 1s - loss: 0.2516 - val_loss: 0.2067\n",
      "Epoch 32/50\n",
      "54000/54000 [==============================] - 3s - loss: 0.2488 - val_loss: 0.2171\n",
      "Epoch 33/50\n",
      "54000/54000 [==============================] - 2s - loss: 0.2504 - val_loss: 0.2125\n",
      "Epoch 34/50\n",
      "54000/54000 [==============================] - 1s - loss: 0.2394 - val_loss: 0.2060\n",
      "Epoch 35/50\n",
      "54000/54000 [==============================] - 1s - loss: 0.2404 - val_loss: 0.2138\n",
      "Epoch 36/50\n",
      "54000/54000 [==============================] - 1s - loss: 0.2308 - val_loss: 0.2105\n",
      "Epoch 37/50\n",
      "54000/54000 [==============================] - 3s - loss: 0.2314 - val_loss: 0.2085\n",
      "Epoch 38/50\n",
      "54000/54000 [==============================] - 2s - loss: 0.2227 - val_loss: 0.1940\n",
      "Epoch 39/50\n",
      "54000/54000 [==============================] - 1s - loss: 0.2231 - val_loss: 0.1936\n",
      "Epoch 40/50\n",
      "54000/54000 [==============================] - 1s - loss: 0.2207 - val_loss: 0.1977\n",
      "Epoch 41/50\n",
      "54000/54000 [==============================] - 3s - loss: 0.2229 - val_loss: 0.2044\n",
      "Epoch 42/50\n",
      "54000/54000 [==============================] - 2s - loss: 0.2274 - val_loss: 0.1961ss: 0.24 - ET\n",
      "Epoch 43/50\n",
      "54000/54000 [==============================] - 1s - loss: 0.2118 - val_loss: 0.1918\n",
      "Epoch 44/50\n",
      "54000/54000 [==============================] - 1s - loss: 0.2180 - val_loss: 0.1907\n",
      "Epoch 45/50\n",
      "54000/54000 [==============================] - 4s - loss: 0.2113 - val_loss: 0.1936\n",
      "Epoch 46/50\n",
      "54000/54000 [==============================] - 2s - loss: 0.2084 - val_loss: 0.1872\n",
      "Epoch 47/50\n",
      "54000/54000 [==============================] - 1s - loss: 0.2060 - val_loss: 0.1883\n",
      "Epoch 48/50\n",
      "54000/54000 [==============================] - 1s - loss: 0.1988 - val_loss: 0.1761\n",
      "Epoch 49/50\n",
      "54000/54000 [==============================] - 2s - loss: 0.2006 - val_loss: 0.1889\n",
      "Epoch 50/50\n",
      "54000/54000 [==============================] - 5s - loss: 0.2014 - val_loss: 0.1948ss:\n"
     ]
    },
    {
     "data": {
      "text/plain": [
       "<keras.callbacks.History at 0x13942f82f98>"
      ]
     },
     "execution_count": 19,
     "metadata": {},
     "output_type": "execute_result"
    }
   ],
   "source": [
    "model.fit(X_train, y_train_ohe, nb_epoch=50, batch_size=300, verbose=1, validation_split=0.1)"
   ]
  },
  {
   "cell_type": "code",
   "execution_count": 20,
   "metadata": {},
   "outputs": [
    {
     "name": "stdout",
     "output_type": "stream",
     "text": [
      "Training accuracy: 94.19%\n",
      "Testing accuracy: 93.29%\n"
     ]
    }
   ],
   "source": [
    "y_train_pred = model.predict_classes(X_train, verbose=0)\n",
    "y_test_pred = model.predict_classes(X_test, verbose=0)\n",
    "train_acc = np.sum(y_train == y_train_pred, axis=0) / X_train.shape[0]\n",
    "test_acc = np.sum(y_test == y_test_pred, axis=0) / X_test.shape[0]\n",
    "\n",
    "print('Training accuracy: %.2f%%' % (train_acc * 100))\n",
    "print('Testing accuracy: %.2f%%' % (test_acc * 100))"
   ]
  },
  {
   "cell_type": "code",
   "execution_count": null,
   "metadata": {
    "collapsed": true
   },
   "outputs": [],
   "source": []
  }
 ],
 "metadata": {
  "kernelspec": {
   "display_name": "Python 3",
   "language": "python",
   "name": "python3"
  },
  "language_info": {
   "codemirror_mode": {
    "name": "ipython",
    "version": 3
   },
   "file_extension": ".py",
   "mimetype": "text/x-python",
   "name": "python",
   "nbconvert_exporter": "python",
   "pygments_lexer": "ipython3",
   "version": "3.5.4"
  }
 },
 "nbformat": 4,
 "nbformat_minor": 2
}
