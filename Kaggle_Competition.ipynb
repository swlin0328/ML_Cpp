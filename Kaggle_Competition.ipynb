{
 "cells": [
  {
   "cell_type": "code",
   "execution_count": 1,
   "metadata": {},
   "outputs": [
    {
     "name": "stderr",
     "output_type": "stream",
     "text": [
      "C:\\Users\\Acer\\Anaconda2\\lib\\site-packages\\sklearn\\cross_validation.py:41: DeprecationWarning: This module was deprecated in version 0.18 in favor of the model_selection module into which all the refactored classes and functions are moved. Also note that the interface of the new CV iterators are different from that of this module. This module will be removed in 0.20.\n",
      "  \"This module will be removed in 0.20.\", DeprecationWarning)\n"
     ]
    },
    {
     "data": {
      "text/html": [
       "<div>\n",
       "<style>\n",
       "    .dataframe thead tr:only-child th {\n",
       "        text-align: right;\n",
       "    }\n",
       "\n",
       "    .dataframe thead th {\n",
       "        text-align: left;\n",
       "    }\n",
       "\n",
       "    .dataframe tbody tr th {\n",
       "        vertical-align: top;\n",
       "    }\n",
       "</style>\n",
       "<table border=\"1\" class=\"dataframe\">\n",
       "  <thead>\n",
       "    <tr style=\"text-align: right;\">\n",
       "      <th></th>\n",
       "      <th>id</th>\n",
       "      <th>target</th>\n",
       "      <th>ps_ind_01</th>\n",
       "      <th>ps_ind_02_cat</th>\n",
       "      <th>ps_ind_03</th>\n",
       "      <th>ps_ind_04_cat</th>\n",
       "      <th>ps_ind_05_cat</th>\n",
       "      <th>ps_ind_06_bin</th>\n",
       "      <th>ps_ind_07_bin</th>\n",
       "      <th>ps_ind_08_bin</th>\n",
       "      <th>...</th>\n",
       "      <th>ps_calc_11</th>\n",
       "      <th>ps_calc_12</th>\n",
       "      <th>ps_calc_13</th>\n",
       "      <th>ps_calc_14</th>\n",
       "      <th>ps_calc_15_bin</th>\n",
       "      <th>ps_calc_16_bin</th>\n",
       "      <th>ps_calc_17_bin</th>\n",
       "      <th>ps_calc_18_bin</th>\n",
       "      <th>ps_calc_19_bin</th>\n",
       "      <th>ps_calc_20_bin</th>\n",
       "    </tr>\n",
       "  </thead>\n",
       "  <tbody>\n",
       "    <tr>\n",
       "      <th>0</th>\n",
       "      <td>7</td>\n",
       "      <td>0</td>\n",
       "      <td>2</td>\n",
       "      <td>2</td>\n",
       "      <td>5</td>\n",
       "      <td>1</td>\n",
       "      <td>0</td>\n",
       "      <td>0</td>\n",
       "      <td>1</td>\n",
       "      <td>0</td>\n",
       "      <td>...</td>\n",
       "      <td>9</td>\n",
       "      <td>1</td>\n",
       "      <td>5</td>\n",
       "      <td>8</td>\n",
       "      <td>0</td>\n",
       "      <td>1</td>\n",
       "      <td>1</td>\n",
       "      <td>0</td>\n",
       "      <td>0</td>\n",
       "      <td>1</td>\n",
       "    </tr>\n",
       "    <tr>\n",
       "      <th>1</th>\n",
       "      <td>9</td>\n",
       "      <td>0</td>\n",
       "      <td>1</td>\n",
       "      <td>1</td>\n",
       "      <td>7</td>\n",
       "      <td>0</td>\n",
       "      <td>0</td>\n",
       "      <td>0</td>\n",
       "      <td>0</td>\n",
       "      <td>1</td>\n",
       "      <td>...</td>\n",
       "      <td>3</td>\n",
       "      <td>1</td>\n",
       "      <td>1</td>\n",
       "      <td>9</td>\n",
       "      <td>0</td>\n",
       "      <td>1</td>\n",
       "      <td>1</td>\n",
       "      <td>0</td>\n",
       "      <td>1</td>\n",
       "      <td>0</td>\n",
       "    </tr>\n",
       "    <tr>\n",
       "      <th>2</th>\n",
       "      <td>13</td>\n",
       "      <td>0</td>\n",
       "      <td>5</td>\n",
       "      <td>4</td>\n",
       "      <td>9</td>\n",
       "      <td>1</td>\n",
       "      <td>0</td>\n",
       "      <td>0</td>\n",
       "      <td>0</td>\n",
       "      <td>1</td>\n",
       "      <td>...</td>\n",
       "      <td>4</td>\n",
       "      <td>2</td>\n",
       "      <td>7</td>\n",
       "      <td>7</td>\n",
       "      <td>0</td>\n",
       "      <td>1</td>\n",
       "      <td>1</td>\n",
       "      <td>0</td>\n",
       "      <td>1</td>\n",
       "      <td>0</td>\n",
       "    </tr>\n",
       "    <tr>\n",
       "      <th>3</th>\n",
       "      <td>16</td>\n",
       "      <td>0</td>\n",
       "      <td>0</td>\n",
       "      <td>1</td>\n",
       "      <td>2</td>\n",
       "      <td>0</td>\n",
       "      <td>0</td>\n",
       "      <td>1</td>\n",
       "      <td>0</td>\n",
       "      <td>0</td>\n",
       "      <td>...</td>\n",
       "      <td>2</td>\n",
       "      <td>2</td>\n",
       "      <td>4</td>\n",
       "      <td>9</td>\n",
       "      <td>0</td>\n",
       "      <td>0</td>\n",
       "      <td>0</td>\n",
       "      <td>0</td>\n",
       "      <td>0</td>\n",
       "      <td>0</td>\n",
       "    </tr>\n",
       "    <tr>\n",
       "      <th>4</th>\n",
       "      <td>17</td>\n",
       "      <td>0</td>\n",
       "      <td>0</td>\n",
       "      <td>2</td>\n",
       "      <td>0</td>\n",
       "      <td>1</td>\n",
       "      <td>0</td>\n",
       "      <td>1</td>\n",
       "      <td>0</td>\n",
       "      <td>0</td>\n",
       "      <td>...</td>\n",
       "      <td>3</td>\n",
       "      <td>1</td>\n",
       "      <td>1</td>\n",
       "      <td>3</td>\n",
       "      <td>0</td>\n",
       "      <td>0</td>\n",
       "      <td>0</td>\n",
       "      <td>1</td>\n",
       "      <td>1</td>\n",
       "      <td>0</td>\n",
       "    </tr>\n",
       "  </tbody>\n",
       "</table>\n",
       "<p>5 rows × 59 columns</p>\n",
       "</div>"
      ],
      "text/plain": [
       "   id  target  ps_ind_01  ps_ind_02_cat  ps_ind_03  ps_ind_04_cat  \\\n",
       "0   7       0          2              2          5              1   \n",
       "1   9       0          1              1          7              0   \n",
       "2  13       0          5              4          9              1   \n",
       "3  16       0          0              1          2              0   \n",
       "4  17       0          0              2          0              1   \n",
       "\n",
       "   ps_ind_05_cat  ps_ind_06_bin  ps_ind_07_bin  ps_ind_08_bin       ...        \\\n",
       "0              0              0              1              0       ...         \n",
       "1              0              0              0              1       ...         \n",
       "2              0              0              0              1       ...         \n",
       "3              0              1              0              0       ...         \n",
       "4              0              1              0              0       ...         \n",
       "\n",
       "   ps_calc_11  ps_calc_12  ps_calc_13  ps_calc_14  ps_calc_15_bin  \\\n",
       "0           9           1           5           8               0   \n",
       "1           3           1           1           9               0   \n",
       "2           4           2           7           7               0   \n",
       "3           2           2           4           9               0   \n",
       "4           3           1           1           3               0   \n",
       "\n",
       "   ps_calc_16_bin  ps_calc_17_bin  ps_calc_18_bin  ps_calc_19_bin  \\\n",
       "0               1               1               0               0   \n",
       "1               1               1               0               1   \n",
       "2               1               1               0               1   \n",
       "3               0               0               0               0   \n",
       "4               0               0               1               1   \n",
       "\n",
       "   ps_calc_20_bin  \n",
       "0               1  \n",
       "1               0  \n",
       "2               0  \n",
       "3               0  \n",
       "4               0  \n",
       "\n",
       "[5 rows x 59 columns]"
      ]
     },
     "execution_count": 1,
     "metadata": {},
     "output_type": "execute_result"
    }
   ],
   "source": [
    "import numpy as np\n",
    "import pandas as pd\n",
    "import xgboost as xgb\n",
    "import seaborn as sns\n",
    "import matplotlib.pyplot as plt\n",
    "\n",
    "dataset = pd.read_csv(r'C:\\Users\\Acer\\Desktop\\train.csv', header=0)\n",
    "test_data = pd.read_csv(r'C:\\Users\\Acer\\Desktop\\test.csv', header=0)\n",
    "prediction_data = pd.DataFrame({\n",
    "    'id' : test_data['id'],\n",
    "    'target' : 0.\n",
    "})\n",
    "dataset.head()"
   ]
  },
  {
   "cell_type": "code",
   "execution_count": 2,
   "metadata": {},
   "outputs": [
    {
     "data": {
      "text/plain": [
       "((595212, 57), (892816, 57))"
      ]
     },
     "execution_count": 2,
     "metadata": {},
     "output_type": "execute_result"
    }
   ],
   "source": [
    "training_data = dataset.drop(['target','id'], axis=1)\n",
    "training_label = dataset['target']\n",
    "test_data = test_data.drop(['id'], axis=1)\n",
    "\n",
    "training_data.shape, test_data.shape"
   ]
  },
  {
   "cell_type": "code",
   "execution_count": 3,
   "metadata": {},
   "outputs": [
    {
     "data": {
      "text/plain": [
       "Counter({dtype('int64'): 47, dtype('float64'): 10})"
      ]
     },
     "execution_count": 3,
     "metadata": {},
     "output_type": "execute_result"
    }
   ],
   "source": [
    "from collections import Counter\n",
    "Counter(training_data.dtypes)"
   ]
  },
  {
   "cell_type": "code",
   "execution_count": 4,
   "metadata": {},
   "outputs": [
    {
     "data": {
      "image/png": "[encoded data removed]",
      "text/plain": [
       "<matplotlib.figure.Figure at 0x1acd5cf8>"
      ]
     },
     "metadata": {},
     "output_type": "display_data"
    }
   ],
   "source": [
    "df_float = training_data.select_dtypes(include=[\"float\"])\n",
    "import seaborn as sns\n",
    "corrmat = df_float.corr()\n",
    "f, ax = plt.subplots(figsize=(8, 8))\n",
    "sns.heatmap(corrmat, vmax=1., square=True)\n",
    "plt.title(\"Float features correlation map\", fontsize=15)\n",
    "plt.show()"
   ]
  },
  {
   "cell_type": "code",
   "execution_count": 5,
   "metadata": {},
   "outputs": [
    {
     "data": {
      "text/plain": [
       "ps_car_03_cat     0.690898\n",
       "ps_car_05_cat     0.447825\n",
       "ps_reg_03         0.181065\n",
       "ps_car_14         0.071605\n",
       "ps_car_07_cat     0.019302\n",
       "ps_ind_05_cat     0.009760\n",
       "ps_car_09_cat     0.000956\n",
       "ps_ind_02_cat     0.000363\n",
       "ps_car_01_cat     0.000180\n",
       "ps_ind_04_cat     0.000139\n",
       "ps_car_02_cat     0.000008\n",
       "ps_car_11         0.000008\n",
       "ps_car_12         0.000002\n",
       "ps_reg_02         0.000000\n",
       "ps_calc_20_bin    0.000000\n",
       "ps_ind_18_bin     0.000000\n",
       "ps_reg_01         0.000000\n",
       "ps_ind_15         0.000000\n",
       "ps_ind_17_bin     0.000000\n",
       "ps_ind_16_bin     0.000000\n",
       "ps_ind_14         0.000000\n",
       "ps_ind_13_bin     0.000000\n",
       "ps_ind_12_bin     0.000000\n",
       "ps_ind_11_bin     0.000000\n",
       "ps_ind_10_bin     0.000000\n",
       "ps_ind_09_bin     0.000000\n",
       "ps_ind_08_bin     0.000000\n",
       "ps_ind_07_bin     0.000000\n",
       "ps_ind_06_bin     0.000000\n",
       "ps_ind_03         0.000000\n",
       "ps_car_04_cat     0.000000\n",
       "ps_car_08_cat     0.000000\n",
       "ps_car_06_cat     0.000000\n",
       "ps_calc_08        0.000000\n",
       "ps_calc_18_bin    0.000000\n",
       "ps_calc_17_bin    0.000000\n",
       "ps_calc_16_bin    0.000000\n",
       "ps_calc_15_bin    0.000000\n",
       "ps_calc_14        0.000000\n",
       "ps_calc_13        0.000000\n",
       "ps_calc_12        0.000000\n",
       "ps_calc_11        0.000000\n",
       "ps_calc_10        0.000000\n",
       "ps_calc_09        0.000000\n",
       "ps_calc_07        0.000000\n",
       "ps_calc_19_bin    0.000000\n",
       "ps_calc_06        0.000000\n",
       "ps_calc_05        0.000000\n",
       "ps_calc_04        0.000000\n",
       "ps_calc_03        0.000000\n",
       "ps_calc_02        0.000000\n",
       "ps_calc_01        0.000000\n",
       "ps_car_15         0.000000\n",
       "ps_car_13         0.000000\n",
       "ps_car_11_cat     0.000000\n",
       "ps_car_10_cat     0.000000\n",
       "ps_ind_01         0.000000\n",
       "dtype: float64"
      ]
     },
     "execution_count": 5,
     "metadata": {},
     "output_type": "execute_result"
    }
   ],
   "source": [
    "from __future__ import division \n",
    "sum(training_data.isnull().any())\n",
    "training_data.apply(lambda x: sum(x == -1) / len(x)).sort_values(ascending=False)"
   ]
  },
  {
   "cell_type": "code",
   "execution_count": 6,
   "metadata": {
    "collapsed": true
   },
   "outputs": [],
   "source": [
    "mean_cols = [\"ps_reg_03\", \"ps_car_11\", \"ps_car_12\", \"ps_car_14\"]\n",
    "for col in mean_cols:\n",
    "    training_data[col].replace(-1, np.mean(training_data[col]), inplace=True)\n",
    "    test_data[col].replace(-1, np.mean(test_data[col]), inplace=True)"
   ]
  },
  {
   "cell_type": "code",
   "execution_count": 7,
   "metadata": {
    "collapsed": true
   },
   "outputs": [],
   "source": [
    "catgorical_cols = [i for i in training_data.columns if i.endswith(\"cat\")]"
   ]
  },
  {
   "cell_type": "code",
   "execution_count": 8,
   "metadata": {
    "collapsed": true
   },
   "outputs": [],
   "source": [
    "def onehot_encode(df, cols):\n",
    "    for col in cols:\n",
    "        temp = pd.get_dummies(df[col], prefix=col)\n",
    "        df = pd.concat([df, temp], axis=1)\n",
    "        df.drop(col, axis=1, inplace=True)\n",
    "\n",
    "def gini(y_true, y_pred):\n",
    "    actual = np.asarray(y_true)\n",
    "    n = len(y_true)\n",
    "    a_s = actual[np.argsort(y_pred)]\n",
    "    a_c = a_s.cumsum()\n",
    "    giniSum = a_c.sum() / a_s.sum() - (n + 1) / 2.0\n",
    "    return giniSum / n\n",
    "\n",
    "def gini_normalized(y_true, y_pred):\n",
    "    if y_pred.ndim == 2:\n",
    "        y_pred = y_pred[:, 1]\n",
    "    return gini(y_true, y_pred) / gini(y_true, y_true)\n",
    "\n",
    "def gini_xgb(preds, dtrain):\n",
    "    labels = dtrain.get_label()\n",
    "    gini_score = gini_normalized(labels, preds)\n",
    "    return [('gini', gini_score)]\n",
    "#sklearn\n",
    "#gini_sklearn = metrics.make_scorer(gini_normalized, True, True)"
   ]
  },
  {
   "cell_type": "code",
   "execution_count": 9,
   "metadata": {
    "collapsed": true
   },
   "outputs": [],
   "source": [
    "onehot_encode(training_data, catgorical_cols)\n",
    "onehot_encode(test_data, catgorical_cols)"
   ]
  },
  {
   "cell_type": "code",
   "execution_count": 10,
   "metadata": {},
   "outputs": [
    {
     "name": "stdout",
     "output_type": "stream",
     "text": [
      "[Fold 1/5]\n",
      "[0]\ttrain-gini:0.201411\tvalid-gini:0.173065\n",
      "Multiple eval metrics have been passed: 'valid-gini' will be used for early stopping.\n",
      "\n",
      "Will train until valid-gini hasn't improved in 70 rounds.\n",
      "[100]\ttrain-gini:0.36162\tvalid-gini:0.256636\n",
      "[200]\ttrain-gini:0.427127\tvalid-gini:0.253677\n",
      "Stopping. Best iteration:\n",
      "[133]\ttrain-gini:0.383786\tvalid-gini:0.257021\n",
      "\n",
      "[Fold 1/5 Prediciton:]\n",
      "[Fold 2/5]\n",
      "[0]\ttrain-gini:0.19543\tvalid-gini:0.176411\n",
      "Multiple eval metrics have been passed: 'valid-gini' will be used for early stopping.\n",
      "\n",
      "Will train until valid-gini hasn't improved in 70 rounds.\n",
      "[100]\ttrain-gini:0.36152\tvalid-gini:0.274674\n",
      "Stopping. Best iteration:\n",
      "[110]\ttrain-gini:0.369432\tvalid-gini:0.27558\n",
      "\n",
      "[Fold 2/5 Prediciton:]\n",
      "[Fold 3/5]\n",
      "[0]\ttrain-gini:0.191679\tvalid-gini:0.177511\n",
      "Multiple eval metrics have been passed: 'valid-gini' will be used for early stopping.\n",
      "\n",
      "Will train until valid-gini hasn't improved in 70 rounds.\n",
      "[100]\ttrain-gini:0.361319\tvalid-gini:0.276073\n",
      "Stopping. Best iteration:\n",
      "[120]\ttrain-gini:0.377536\tvalid-gini:0.277259\n",
      "\n",
      "[Fold 3/5 Prediciton:]\n",
      "[Fold 4/5]\n",
      "[0]\ttrain-gini:0.194553\tvalid-gini:0.176041\n",
      "Multiple eval metrics have been passed: 'valid-gini' will be used for early stopping.\n",
      "\n",
      "Will train until valid-gini hasn't improved in 70 rounds.\n",
      "[100]\ttrain-gini:0.363489\tvalid-gini:0.268154\n",
      "Stopping. Best iteration:\n",
      "[120]\ttrain-gini:0.37757\tvalid-gini:0.270406\n",
      "\n",
      "[Fold 4/5 Prediciton:]\n",
      "[Fold 5/5]\n",
      "[0]\ttrain-gini:0.200242\tvalid-gini:0.178292\n",
      "Multiple eval metrics have been passed: 'valid-gini' will be used for early stopping.\n",
      "\n",
      "Will train until valid-gini hasn't improved in 70 rounds.\n",
      "[100]\ttrain-gini:0.359871\tvalid-gini:0.272919\n",
      "Stopping. Best iteration:\n",
      "[116]\ttrain-gini:0.369882\tvalid-gini:0.273967\n",
      "\n",
      "[Fold 5/5 Prediciton:]\n"
     ]
    }
   ],
   "source": [
    "from sklearn.model_selection import StratifiedShuffleSplit\n",
    "params = {}\n",
    "params['learning_rate'] = 0.1\n",
    "params['n_estimators'] = 500\n",
    "params['objective'] = 'binary:logistic'\n",
    "params['silent'] = True\n",
    "params['max_depth'] = 5\n",
    "params['subsample'] = 0.8\n",
    "params[\"gamma\"] = 0.2\n",
    "params['colsample_bytree'] = 0.85\n",
    "params['colsample_bylevel'] = 0.9\n",
    "params['min_child_weight'] = 1.3\n",
    "kfold = 5\n",
    "sss = StratifiedShuffleSplit(n_splits=kfold, test_size=0.20, random_state=0)\n",
    "\n",
    "training_data = training_data.values\n",
    "training_label = training_label.values\n",
    "test_data = test_data.values\n",
    "\n",
    "for i, (train_index, test_index) in enumerate(sss.split(training_data, training_label)):\n",
    "    print('[Fold %d/%d]' % (i + 1, kfold))\n",
    "    X_train, X_valid = training_data[train_index], training_data[test_index]\n",
    "    y_train, y_valid = training_label[train_index], training_label[test_index]\n",
    "    d_test = xgb.DMatrix(test_data)\n",
    "    d_train = xgb.DMatrix(X_train, y_train)\n",
    "    d_valid = xgb.DMatrix(X_valid, y_valid)\n",
    "    watchlist = [(d_train, 'train'), (d_valid, 'valid')]\n",
    "    model = xgb.train(params, d_train, 1600, watchlist, early_stopping_rounds=70, feval=gini_xgb, maximize=True, verbose_eval=100)\n",
    "   \n",
    "    print('[Fold %d/%d Prediciton:]' % (i + 1, kfold))\n",
    "    p_test = model.predict(d_test)\n",
    "    prediction_data['target'] += p_test/kfold"
   ]
  },
  {
   "cell_type": "code",
   "execution_count": 11,
   "metadata": {
    "collapsed": true
   },
   "outputs": [],
   "source": [
    "prediction_data.to_csv(r'C:\\Users\\Acer\\Desktop' + r'\\submission2.csv', index=True, index_label = 'id')"
   ]
  },
  {
   "cell_type": "code",
   "execution_count": 12,
   "metadata": {},
   "outputs": [
    {
     "data": {
      "image/png": "[encoded data removed]",
      "text/plain": [
       "<matplotlib.figure.Figure at 0x22bd3278>"
      ]
     },
     "metadata": {},
     "output_type": "display_data"
    }
   ],
   "source": [
    "fig, ax = plt.subplots(figsize=(12,18))\n",
    "xgb.plot_importance(model, height=0.8, ax=ax)\n",
    "plt.show()"
   ]
  },
  {
   "cell_type": "code",
   "execution_count": null,
   "metadata": {
    "collapsed": true
   },
   "outputs": [],
   "source": []
  }
 ],
 "metadata": {
  "kernelspec": {
   "display_name": "Python 2",
   "language": "python",
   "name": "python2"
  },
  "language_info": {
   "codemirror_mode": {
    "name": "ipython",
    "version": 2
   },
   "file_extension": ".py",
   "mimetype": "text/x-python",
   "name": "python",
   "nbconvert_exporter": "python",
   "pygments_lexer": "ipython2",
   "version": "2.7.14"
  }
 },
 "nbformat": 4,
 "nbformat_minor": 2
}
