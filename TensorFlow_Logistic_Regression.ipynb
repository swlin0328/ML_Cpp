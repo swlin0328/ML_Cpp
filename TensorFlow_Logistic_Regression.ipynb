{
 "cells": [
  {
   "cell_type": "code",
   "execution_count": 84,
   "metadata": {},
   "outputs": [
    {
     "name": "stdout",
     "output_type": "stream",
     "text": [
      "Extracting /tmp/data/train-images-idx3-ubyte.gz\n",
      "Extracting /tmp/data/train-labels-idx1-ubyte.gz\n",
      "Extracting /tmp/data/t10k-images-idx3-ubyte.gz\n",
      "Extracting /tmp/data/t10k-labels-idx1-ubyte.gz\n"
     ]
    }
   ],
   "source": [
    "#程式碼取自 博碩, \"Python 機器學習\", ISBN 978-986-434-140-5, by Sebastian Raschka, 為練習Python函式庫用途\n",
    "#僅供履歷作品集使用\n",
    "from tensorflow.examples.tutorials.mnist import input_data\n",
    "import tensorflow as tf\n",
    "import matplotlib.pyplot as plt\n",
    "\n",
    "mnist = input_data.read_data_sets(\"/tmp/data/\", one_hot=True)\n",
    "training_epochs = 25\n",
    "learning_rate = 0.01\n",
    "batch_size = 100\n",
    "display_step = 1\n",
    "\n",
    "x = tf.placeholder(\"float\", [None, 784])\n",
    "y = tf.placeholder(\"float\", [None, 10])\n",
    "W = tf.Variable(tf.zeros([784, 10]))\n",
    "b = tf.Variable(tf.zeros([10]))"
   ]
  },
  {
   "cell_type": "code",
   "execution_count": 85,
   "metadata": {},
   "outputs": [
    {
     "name": "stdout",
     "output_type": "stream",
     "text": [
      "Epoch: 0001 cost= 1.176217286\n",
      "Epoch: 0002 cost= 0.662530824\n",
      "Epoch: 0003 cost= 0.550720267\n",
      "Epoch: 0004 cost= 0.496784425\n",
      "Epoch: 0005 cost= 0.463800444\n",
      "Epoch: 0006 cost= 0.440917448\n",
      "Epoch: 0007 cost= 0.423920187\n",
      "Epoch: 0008 cost= 0.410647613\n",
      "Epoch: 0009 cost= 0.399910327\n",
      "Epoch: 0010 cost= 0.390966552\n",
      "Epoch: 0011 cost= 0.383323331\n",
      "Epoch: 0012 cost= 0.376800214\n",
      "Epoch: 0013 cost= 0.371058440\n",
      "Epoch: 0014 cost= 0.365912671\n",
      "Epoch: 0015 cost= 0.361367968\n",
      "Epoch: 0016 cost= 0.357296204\n",
      "Epoch: 0017 cost= 0.353509325\n",
      "Epoch: 0018 cost= 0.350203863\n",
      "Epoch: 0019 cost= 0.347072097\n",
      "Epoch: 0020 cost= 0.344121840\n",
      "Epoch: 0021 cost= 0.341488622\n",
      "Epoch: 0022 cost= 0.339015153\n",
      "Epoch: 0023 cost= 0.336669564\n",
      "Epoch: 0024 cost= 0.334443140\n",
      "Epoch: 0025 cost= 0.332459242\n",
      "Training phase finished\n",
      "\n",
      "Model accuracy: 0.91\n"
     ]
    }
   ],
   "source": [
    "activation = tf.nn.softmax(tf.matmul(x, W) + b)\n",
    "correct_prediction = tf.equal(tf.argmax(activation, 1), tf.argmax(y, 1))\n",
    "accuracy = tf.reduce_mean(tf.cast(correct_prediction, \"float\"))\n",
    "    \n",
    "cross_entropy = y * tf.log(activation)\n",
    "cost = tf.reduce_mean(-tf.reduce_sum(cross_entropy, reduction_indices=1))\n",
    "optimizer = tf.train.GradientDescentOptimizer(learning_rate).minimize(cost)\n",
    "\n",
    "avg_set = []\n",
    "epoch_set = []\n",
    "init = tf.global_variables_initializer()\n",
    "with tf.Session() as sess:\n",
    "    sess.run(init)\n",
    "    \n",
    "    for epoch in range(training_epochs):\n",
    "        avg_cost = 0.\n",
    "        total_batch = int(mnist.train.num_examples/batch_size)\n",
    "        \n",
    "        for i in range(total_batch):\n",
    "            batch_xs, batch_ys = mnist.train.next_batch(batch_size)\n",
    "            sess.run(optimizer, feed_dict={x: batch_xs, y: batch_ys})\n",
    "            avg_cost += sess.run(cost, feed_dict={x: batch_xs, y:batch_ys}) / total_batch\n",
    "        if epoch % display_step == 0:\n",
    "            print('Epoch: %04d cost= %.9f' %((epoch+1),avg_cost))\n",
    "        avg_set.append(avg_cost)\n",
    "        epoch_set.append(epoch+1)\n",
    "        \n",
    "    print('Training phase finished\\n')\n",
    "    \n",
    "    print('Model accuracy: %.2f' % sess.run(accuracy, feed_dict={x: mnist.test.images, y: mnist.test.labels}))"
   ]
  },
  {
   "cell_type": "code",
   "execution_count": 86,
   "metadata": {},
   "outputs": [
    {
     "data": {
      "image/png": "[encoded data removed]",
      "text/plain": [
       "<matplotlib.figure.Figure at 0x1fe3babe7b8>"
      ]
     },
     "metadata": {},
     "output_type": "display_data"
    }
   ],
   "source": [
    "plt.plot(epoch_set, avg_set, 'o', label='Logistic Regression Training phase')\n",
    "plt.ylabel('cost')\n",
    "plt.xlabel('epoch')\n",
    "plt.legend()\n",
    "plt.show()"
   ]
  },
  {
   "cell_type": "code",
   "execution_count": null,
   "metadata": {
    "collapsed": true
   },
   "outputs": [],
   "source": []
  }
 ],
 "metadata": {
  "kernelspec": {
   "display_name": "Python 3",
   "language": "python",
   "name": "python3"
  },
  "language_info": {
   "codemirror_mode": {
    "name": "ipython",
    "version": 3
   },
   "file_extension": ".py",
   "mimetype": "text/x-python",
   "name": "python",
   "nbconvert_exporter": "python",
   "pygments_lexer": "ipython3",
   "version": "3.5.4"
  }
 },
 "nbformat": 4,
 "nbformat_minor": 2
}
